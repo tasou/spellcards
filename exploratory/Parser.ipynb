{
 "cells": [
  {
   "cell_type": "code",
   "execution_count": 1,
   "metadata": {
    "collapsed": true
   },
   "outputs": [],
   "source": [
    "from spellcards.scraper.page import Page, SpellListPage, SpellPage\n",
    "url = 'http://www.d20pfsrd.com/magic/spell-lists-and-domains/spell-list-witch/'\n",
    "arcane_mark = 'http://www.d20pfsrd.com/magic/all-spells/a/arcane-mark'"
   ]
  },
  {
   "cell_type": "code",
   "execution_count": 2,
   "metadata": {
    "collapsed": true
   },
   "outputs": [],
   "source": [
    "spell = SpellPage(arcane_mark)"
   ]
  },
  {
   "cell_type": "code",
   "execution_count": 3,
   "metadata": {},
   "outputs": [
    {
     "data": {
      "text/plain": [
       "Spell(name='Arcane Mark', level={'wizard': '0', 'sorcerer': '0', 'witch': '0', 'magus': '0', 'shaman': '0'}, school='universal', casting_time='1', components=['V', 'S'], effect='one personal rune or mark, all of which must fit within 1 sq. ft.', duration='permanent', saving_throw='none', spell_resistance='no', range='touch', description='This spell allows you to inscribe your personal rune or mark, which can consist of no more than six characters. The writing can be visible or invisible. An arcane mark spell enables you to etch the rune upon any substance without harm to the material upon which it is placed. If an invisible mark is made, a detect magic spell causes it to glow and be visible, though not necessarily understandable.\\nSee invisibility, true seeing, a gem of seeing, or a robe of eyes likewise allows the user to see an invisible arcane mark. A read magic spell reveals the words, if any. The mark cannot be dispelled, but it can be removed by the caster or by an erase spell.\\nIf an arcane mark is placed on a living being, the effect gradually fades in about a month.\\nArcane mark must be cast on an object prior to casting instant summons on the same object (see that spell description for details).')"
      ]
     },
     "execution_count": 3,
     "metadata": {},
     "output_type": "execute_result"
    }
   ],
   "source": [
    "spell.load().to_spell()"
   ]
  },
  {
   "cell_type": "code",
   "execution_count": null,
   "metadata": {
    "collapsed": true
   },
   "outputs": [],
   "source": []
  }
 ],
 "metadata": {
  "kernelspec": {
   "display_name": "Python 3",
   "language": "python",
   "name": "python3"
  },
  "language_info": {
   "codemirror_mode": {
    "name": "ipython",
    "version": 3
   },
   "file_extension": ".py",
   "mimetype": "text/x-python",
   "name": "python",
   "nbconvert_exporter": "python",
   "pygments_lexer": "ipython3",
   "version": "3.6.1"
  }
 },
 "nbformat": 4,
 "nbformat_minor": 2
}
