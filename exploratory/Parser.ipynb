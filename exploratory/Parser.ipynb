{
 "cells": [
  {
   "cell_type": "code",
   "execution_count": null,
   "metadata": {},
   "outputs": [],
   "source": [
    "import enum\n",
    "\n",
    "from lxml import html, etree\n",
    "\n",
    "from urllib import request"
   ]
  },
  {
   "cell_type": "code",
   "execution_count": null,
   "metadata": {
    "collapsed": true
   },
   "outputs": [],
   "source": [
    "url = 'http://www.d20pfsrd.com/magic/spell-lists-and-domains/spell-list-witch/'"
   ]
  },
  {
   "cell_type": "code",
   "execution_count": null,
   "metadata": {
    "collapsed": true
   },
   "outputs": [],
   "source": []
  },
  {
   "cell_type": "code",
   "execution_count": null,
   "metadata": {
    "collapsed": true
   },
   "outputs": [],
   "source": [
    "class Page:\n",
    "    \n",
    "    _BASE_URL = 'http://www.d20pfsrd.com'\n",
    "    \n",
    "    def __init__(self, url):\n",
    "        self.url = url\n",
    "        \n",
    "    def load(self):\n",
    "        html_str = request.urlopen(self.url).read().decode('utf-8')\n",
    "        self.etree = html.fromstring(html.make_links_absolute(html_str, base_url=self._BASE_URL))\n",
    "        return self"
   ]
  },
  {
   "cell_type": "code",
   "execution_count": null,
   "metadata": {
    "collapsed": true
   },
   "outputs": [],
   "source": [
    "class SpellListHTML(Page):\n",
    "        \n",
    "    def load(self):\n",
    "        super().load()\n",
    "        self.spells = self.etree.xpath('//a[@class=\"spell\"]')"
   ]
  },
  {
   "cell_type": "code",
   "execution_count": null,
   "metadata": {
    "collapsed": true
   },
   "outputs": [],
   "source": [
    "class Spell:\n",
    "    \n",
    "    def __init__(caster_class, level, school, casting_time, components, spell_range, effect, duration, saving_throw, spell_resistance):\n",
    "        pass\n",
    "    "
   ]
  },
  {
   "cell_type": "code",
   "execution_count": null,
   "metadata": {
    "collapsed": true
   },
   "outputs": [],
   "source": [
    "class CasterClass(enum.Enum):\n",
    "    wizard = enum.auto()\n",
    "    sorcerer = enum.auto()\n",
    "    witch = enum.auto()\n",
    "    magus = enum.auto()\n",
    "    shaman = enum.auto()"
   ]
  },
  {
   "cell_type": "code",
   "execution_count": null,
   "metadata": {
    "collapsed": true
   },
   "outputs": [],
   "source": [
    "def tag_contains(etree, some_str):\n",
    "    return etree.xpath('//*[text()[contains(.,\"{}\")]]'.format(some_str))"
   ]
  },
  {
   "cell_type": "code",
   "execution_count": null,
   "metadata": {
    "collapsed": true
   },
   "outputs": [],
   "source": [
    "def tag_contains_tail(etree, some_str):\n",
    "    tag = tag_contains(etree, some_str)\n",
    "    if tag:\n",
    "        return tag[0].tail.strip(';, ')\n",
    "    return ''"
   ]
  },
  {
   "cell_type": "code",
   "execution_count": null,
   "metadata": {
    "collapsed": true
   },
   "outputs": [],
   "source": []
  },
  {
   "cell_type": "code",
   "execution_count": null,
   "metadata": {
    "collapsed": true
   },
   "outputs": [],
   "source": [
    "spell_list = SpellListHTML(url)\n",
    "spell_list.load()"
   ]
  },
  {
   "cell_type": "code",
   "execution_count": null,
   "metadata": {},
   "outputs": [],
   "source": [
    "spell_list.spells[0].attrib"
   ]
  },
  {
   "cell_type": "code",
   "execution_count": null,
   "metadata": {
    "collapsed": true
   },
   "outputs": [],
   "source": []
  },
  {
   "cell_type": "code",
   "execution_count": null,
   "metadata": {
    "collapsed": true
   },
   "outputs": [],
   "source": [
    "arcane_mark = Page('http://www.d20pfsrd.com/magic/all-spells/a/arcane-mark').load()"
   ]
  },
  {
   "cell_type": "code",
   "execution_count": null,
   "metadata": {
    "collapsed": true
   },
   "outputs": [],
   "source": [
    "spell_header = arcane_mark.etree.xpath('//article//table//td[@class=\"sites-layout-tile sites-tile-name-content-1\"]/p[not(@class=\"divider\")]')[0]"
   ]
  },
  {
   "cell_type": "code",
   "execution_count": null,
   "metadata": {
    "collapsed": true
   },
   "outputs": [],
   "source": []
  },
  {
   "cell_type": "code",
   "execution_count": null,
   "metadata": {},
   "outputs": [],
   "source": [
    "school = tag_contains_tail(spell_header, 'School')"
   ]
  },
  {
   "cell_type": "code",
   "execution_count": null,
   "metadata": {
    "collapsed": true
   },
   "outputs": [],
   "source": [
    "def _try_assign(caster_class, spell_level):\n",
    "    spell_level = spell_level.tail.strip(', ')\n",
    "    if spell_level.isdigit():\n",
    "        level[caster_class.name] = spell_level\n",
    "        return True\n",
    "    return False"
   ]
  },
  {
   "cell_type": "code",
   "execution_count": null,
   "metadata": {},
   "outputs": [],
   "source": [
    "level = {}\n",
    "for caster_class in CasterClass:\n",
    "    spell_level_tags = tag_contains(spell_header, caster_class.name)\n",
    "    for spell_level_tag in spell_level_tags:\n",
    "        while spell_level_tag.text in CasterClass.__members__.keys():\n",
    "            if _try_assign(caster_class, spell_level_tag):\n",
    "                break\n",
    "            spell_level_tag = spell_level_tag.getnext()"
   ]
  },
  {
   "cell_type": "code",
   "execution_count": null,
   "metadata": {
    "collapsed": true
   },
   "outputs": [],
   "source": [
    "casting_time = tag_contains_tail(spell_header, 'Casting Time')"
   ]
  },
  {
   "cell_type": "code",
   "execution_count": null,
   "metadata": {},
   "outputs": [],
   "source": [
    "components = tag_contains_tail(spell_header, 'Components')"
   ]
  },
  {
   "cell_type": "code",
   "execution_count": null,
   "metadata": {
    "collapsed": true
   },
   "outputs": [],
   "source": [
    "duration = tag_contains_tail(spell_header, 'Duration')"
   ]
  },
  {
   "cell_type": "code",
   "execution_count": null,
   "metadata": {
    "collapsed": true
   },
   "outputs": [],
   "source": [
    "saving_throw = tag_contains_tail(spell_header, 'Saving Throw')"
   ]
  },
  {
   "cell_type": "code",
   "execution_count": null,
   "metadata": {},
   "outputs": [],
   "source": [
    "spell_resistance = tag_contains_tail(spell_header, 'Spell Resistance')"
   ]
  },
  {
   "cell_type": "code",
   "execution_count": null,
   "metadata": {
    "collapsed": true
   },
   "outputs": [],
   "source": []
  },
  {
   "cell_type": "code",
   "execution_count": null,
   "metadata": {},
   "outputs": [],
   "source": [
    "'a_b'.title()"
   ]
  },
  {
   "cell_type": "code",
   "execution_count": null,
   "metadata": {
    "collapsed": true
   },
   "outputs": [],
   "source": []
  },
  {
   "cell_type": "code",
   "execution_count": 1,
   "metadata": {},
   "outputs": [],
   "source": [
    "from spellcards.scraper.scraper import spell_from_page\n",
    "from spellcards.scraper.page import Page"
   ]
  },
  {
   "cell_type": "code",
   "execution_count": 2,
   "metadata": {},
   "outputs": [
    {
     "data": {
      "text/plain": [
       "Spell(level={'wizard': '0', 'sorcerer': '0', 'witch': '0', 'magus': '0', 'shaman': '0'}, school='universal', casting_time='1', components='V, S', effect='one personal rune or mark, all of which must fit within 1 sq. ft.', duration='permanent', saving_throw='none', spell_resistance='no', range='touch', description='This spell allows you to inscribe your personal rune or mark, which can consist of no more than six characters. The writing can be visible or invisible. An arcane mark spell enables you to etch the rune upon any substance without harm to the material upon which it is placed. If an invisible mark is made, a detect magic spell causes it to glow and be visible, though not necessarily understandable.\\nSee invisibility, true seeing, a gem of seeing, or a robe of eyes likewise allows the user to see an invisible arcane mark. A read magic spell reveals the words, if any. The mark cannot be dispelled, but it can be removed by the caster or by an erase spell.\\nIf an arcane mark is placed on a living being, the effect gradually fades in about a month.\\nArcane mark must be cast on an object prior to casting instant summons on the same object (see that spell description for details).')"
      ]
     },
     "execution_count": 2,
     "metadata": {},
     "output_type": "execute_result"
    }
   ],
   "source": [
    "spell_from_page(Page('http://www.d20pfsrd.com/magic/all-spells/a/arcane-mark').load())"
   ]
  },
  {
   "cell_type": "code",
   "execution_count": 3,
   "metadata": {},
   "outputs": [
    {
     "name": "stdout",
     "output_type": "stream",
     "text": [
      "This spell allows you to inscribe your personal rune or mark, which can consist of no more than six characters. The writing can be visible or invisible. An arcane mark spell enables you to etch the rune upon any substance without harm to the material upon which it is placed. If an invisible mark is made, a detect magic spell causes it to glow and be visible, though not necessarily understandable.\n",
      "See invisibility, true seeing, a gem of seeing, or a robe of eyes likewise allows the user to see an invisible arcane mark. A read magic spell reveals the words, if any. The mark cannot be dispelled, but it can be removed by the caster or by an erase spell.\n",
      "If an arcane mark is placed on a living being, the effect gradually fades in about a month.\n",
      "Arcane mark must be cast on an object prior to casting instant summons on the same object (see that spell description for details).\n"
     ]
    }
   ],
   "source": [
    "print(_.description)"
   ]
  },
  {
   "cell_type": "code",
   "execution_count": null,
   "metadata": {
    "collapsed": true
   },
   "outputs": [],
   "source": []
  }
 ],
 "metadata": {
  "kernelspec": {
   "display_name": "Python 3",
   "language": "python",
   "name": "python3"
  },
  "language_info": {
   "codemirror_mode": {
    "name": "ipython",
    "version": 3
   },
   "file_extension": ".py",
   "mimetype": "text/x-python",
   "name": "python",
   "nbconvert_exporter": "python",
   "pygments_lexer": "ipython3",
   "version": "3.6.1"
  }
 },
 "nbformat": 4,
 "nbformat_minor": 2
}
